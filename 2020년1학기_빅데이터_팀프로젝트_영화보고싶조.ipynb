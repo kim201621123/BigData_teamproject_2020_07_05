{
  "nbformat": 4,
  "nbformat_minor": 0,
  "metadata": {
    "colab": {
      "name": "2020년1학기_빅데이터_팀프로젝트_영화보고싶조.ipynb",
      "provenance": [],
      "collapsed_sections": []
    },
    "kernelspec": {
      "name": "python3",
      "display_name": "Python 3"
    }
  },
  "cells": [
    {
      "cell_type": "code",
      "metadata": {
        "id": "1ItkXQBq1JDc",
        "colab_type": "code",
        "colab": {
          "base_uri": "https://localhost:8080/",
          "height": 282
        },
        "outputId": "978019e7-ad8d-4153-b521-713e1c038cef"
      },
      "source": [
        "import requests\n",
        "from bs4 import BeautifulSoup\n",
        "import pandas as pd\n",
        "from sklearn.cluster import KMeans\n",
        "import matplotlib.pyplot as plt\n",
        "%matplotlib inline\n",
        "\n",
        "\n",
        "\n",
        "\n",
        "B = [\"the-conjuring\",\"aquaman\",\"the-hangover\",\"joker\",\"spider-man\",\"evil-dead-2013\"]\n",
        "#순서대로 공포->히어로 , 코미디->사회고발 , 코미디->로드무비 , 히어로->공포\n",
        "\n",
        "En_score = list() #전체 리뷰점수 리스트\n",
        "\n",
        "score_review = list()\n",
        "\n",
        "\n",
        "for j in range(6):\n",
        "    for i in range(1):\n",
        "\n",
        "        url = \"https://www.metacritic.com/movie/\"+B[j]+\"/user-reviews?page=\" +str(i)\n",
        "        headers = {'User-Agent': 'Mozilla/5.0'}\n",
        "\n",
        "        html = requests.get(url,headers=headers) ##requests 를 이용해서 url의 html 파일을 가져옴\n",
        "        soup = BeautifulSoup(html.text, \"html.parser\") ##가져온 html 파일을 html parser를 통해서 정리\n",
        "\n",
        "        score_review = list()\n",
        "        html_score_review = soup.findAll(\"div\", attrs={\"metascore_w user large movie negative indiv\",\"metascore_w user large movie mixed indiv\",\"metascore_w user large movie positive indiv\",\"metascore_w user large movie positive indiv perfect\"})\n",
        "\n",
        "        for line in html_score_review:\n",
        "            text = line.get_text()\n",
        "            score_review.append(text)\n",
        "  \n",
        "        score_review.append(score_review)\n",
        "    En_score.append(score_review)\n",
        "\n",
        "\n",
        "\n",
        "data = pd.DataFrame(En_score)\n",
        "data.to_csv('userscore.csv')\n",
        "\n",
        "\n",
        "\n",
        "for i in range(6):\n",
        "        for j in range(100):\n",
        "            En_score[i][j] = int(En_score[i][j])\n",
        "\n",
        "\n",
        "\n",
        "score1=pd.DataFrame(columns=('the-conjuring','aquaman'))\n",
        "score2=pd.DataFrame(columns=('the-hangover','joker'))\n",
        "score3=pd.DataFrame(columns=('spider-man','evil-dead-2013'))\n",
        "\n",
        "\n",
        "\n",
        "for i in range(100):\n",
        "    score1.loc[i]=[En_score[0][i],En_score[1][i]]\n",
        "    score2.loc[i]=[En_score[2][i],En_score[3][i]]\n",
        "    score3.loc[i]=[En_score[4][i],En_score[5][i]]\n",
        "#score(1,2,3중 하나 입력시 데이터 확인).head(100)\n",
        "\n",
        "\n",
        "\n",
        "kmeans1=KMeans(n_clusters=3).fit(score1)\n",
        "centers1=kmeans1.cluster_centers_\n",
        "y_kmeans1=kmeans1.predict(score1)\n",
        "plt.scatter(score1.iloc[:,0],score1.iloc[:,1],s=10)\n",
        "\n",
        "\n",
        "\n",
        "kmeans2=KMeans(n_clusters=3).fit(score2)\n",
        "centers2=kmeans2.cluster_centers_\n",
        "y_kmeans2=kmeans2.predict(score2)\n",
        "plt.scatter(score2.iloc[:,0],score2.iloc[:,1],s=10)\n",
        "\n",
        "\n",
        "\n",
        "kmeans3=KMeans(n_clusters=3).fit(score3)\n",
        "centers3=kmeans3.cluster_centers_\n",
        "y_kmeans3=kmeans3.predict(score3)\n",
        "plt.scatter(score3.iloc[:,0],score3.iloc[:,1],s=10)\n",
        "\n",
        "\n",
        "\n",
        "plt.scatter(score1.iloc[:,0],score1.iloc[:,1],c=y_kmeans1,s=30,cmap='magma')\n",
        "plt.scatter(centers1[:,0],centers1[:,1],c='blue',s=100,alpha=1.0)\n"
      ],
      "execution_count": 1,
      "outputs": [
        {
          "output_type": "execute_result",
          "data": {
            "text/plain": [
              "<matplotlib.collections.PathCollection at 0x7fcf32c88d30>"
            ]
          },
          "metadata": {
            "tags": []
          },
          "execution_count": 1
        },
        {
          "output_type": "display_data",
          "data": {
            "image/png": "[encoded data removed]",
            "text/plain": [
              "<Figure size 432x288 with 1 Axes>"
            ]
          },
          "metadata": {
            "tags": [],
            "needs_background": "light"
          }
        }
      ]
    },
    {
      "cell_type": "code",
      "metadata": {
        "id": "WBavhJgG1aMj",
        "colab_type": "code",
        "colab": {
          "base_uri": "https://localhost:8080/",
          "height": 282
        },
        "outputId": "c8fa8f4e-f134-4c79-d96b-a6e240c08e78"
      },
      "source": [
        "\n",
        "\n",
        "\n",
        "plt.scatter(score2.iloc[:,0],score2.iloc[:,1],c=y_kmeans2,s=30,cmap='viridis')\n",
        "plt.scatter(centers2[:,0],centers2[:,1],c='blue',s=100,alpha=1.0)"
      ],
      "execution_count": 2,
      "outputs": [
        {
          "output_type": "execute_result",
          "data": {
            "text/plain": [
              "<matplotlib.collections.PathCollection at 0x7fcf4441ed30>"
            ]
          },
          "metadata": {
            "tags": []
          },
          "execution_count": 2
        },
        {
          "output_type": "display_data",
          "data": {
            "image/png": "[encoded data removed]",
            "text/plain": [
              "<Figure size 432x288 with 1 Axes>"
            ]
          },
          "metadata": {
            "tags": [],
            "needs_background": "light"
          }
        }
      ]
    },
    {
      "cell_type": "code",
      "metadata": {
        "id": "a1LC7BOo1cqb",
        "colab_type": "code",
        "colab": {
          "base_uri": "https://localhost:8080/",
          "height": 282
        },
        "outputId": "cad28204-f5fc-4ae3-a5b3-4a53c5593e74"
      },
      "source": [
        "\n",
        "\n",
        "\n",
        "\n",
        "plt.scatter(score3.iloc[:,0],score3.iloc[:,1],c=y_kmeans3,s=30,cmap='viridis')\n",
        "plt.scatter(centers3[:,0],centers3[:,1],c='blue',s=100,alpha=1.0)"
      ],
      "execution_count": 3,
      "outputs": [
        {
          "output_type": "execute_result",
          "data": {
            "text/plain": [
              "<matplotlib.collections.PathCollection at 0x7fcf32b3aa90>"
            ]
          },
          "metadata": {
            "tags": []
          },
          "execution_count": 3
        },
        {
          "output_type": "display_data",
          "data": {
            "image/png": "[encoded data removed]",
            "text/plain": [
              "<Figure size 432x288 with 1 Axes>"
            ]
          },
          "metadata": {
            "tags": [],
            "needs_background": "light"
          }
        }
      ]
    }
  ]
}